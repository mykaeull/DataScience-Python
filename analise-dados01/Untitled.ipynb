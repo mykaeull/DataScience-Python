{
 "cells": [
  {
   "cell_type": "markdown",
   "metadata": {},
   "source": [
    "# Aula 07"
   ]
  },
  {
   "cell_type": "code",
   "execution_count": 9,
   "metadata": {},
   "outputs": [],
   "source": [
    "import pandas as pd\n",
    "import matplotlib.pyplot as plt"
   ]
  },
  {
   "cell_type": "code",
   "execution_count": 10,
   "metadata": {},
   "outputs": [],
   "source": [
    "mediaEnemPorMunicipio = pd.read_csv('mediaEnemPorMunicipio.csv', sep=',', index_col=0)"
   ]
  },
  {
   "cell_type": "code",
   "execution_count": 11,
   "metadata": {},
   "outputs": [
    {
     "data": {
      "text/html": [
       "<div>\n",
       "<style scoped>\n",
       "    .dataframe tbody tr th:only-of-type {\n",
       "        vertical-align: middle;\n",
       "    }\n",
       "\n",
       "    .dataframe tbody tr th {\n",
       "        vertical-align: top;\n",
       "    }\n",
       "\n",
       "    .dataframe thead th {\n",
       "        text-align: right;\n",
       "    }\n",
       "</style>\n",
       "<table border=\"1\" class=\"dataframe\">\n",
       "  <thead>\n",
       "    <tr style=\"text-align: right;\">\n",
       "      <th></th>\n",
       "      <th>CO_MUNICIPIO_RESIDENCIA</th>\n",
       "      <th>NO_MUNICIPIO_RESIDENCIA</th>\n",
       "      <th>CO_UF_RESIDENCIA</th>\n",
       "      <th>SG_UF_RESIDENCIA</th>\n",
       "      <th>NU_NOTA_REDACAO</th>\n",
       "      <th>NU_NOTA_MT</th>\n",
       "      <th>NU_NOTA_CH</th>\n",
       "      <th>NU_NOTA_CN</th>\n",
       "      <th>NU_NOTA_LC</th>\n",
       "    </tr>\n",
       "  </thead>\n",
       "  <tbody>\n",
       "    <tr>\n",
       "      <th>0</th>\n",
       "      <td>1100015</td>\n",
       "      <td>Alta Floresta D'Oeste</td>\n",
       "      <td>11</td>\n",
       "      <td>RO</td>\n",
       "      <td>488.000000</td>\n",
       "      <td>496.280000</td>\n",
       "      <td>583.940000</td>\n",
       "      <td>487.940000</td>\n",
       "      <td>487.960000</td>\n",
       "    </tr>\n",
       "    <tr>\n",
       "      <th>1</th>\n",
       "      <td>1100023</td>\n",
       "      <td>Ariquemes</td>\n",
       "      <td>11</td>\n",
       "      <td>RO</td>\n",
       "      <td>470.000000</td>\n",
       "      <td>480.918750</td>\n",
       "      <td>564.823529</td>\n",
       "      <td>476.937500</td>\n",
       "      <td>494.955882</td>\n",
       "    </tr>\n",
       "    <tr>\n",
       "      <th>2</th>\n",
       "      <td>1100049</td>\n",
       "      <td>Cacoal</td>\n",
       "      <td>11</td>\n",
       "      <td>RO</td>\n",
       "      <td>478.490566</td>\n",
       "      <td>533.844898</td>\n",
       "      <td>551.352830</td>\n",
       "      <td>491.157143</td>\n",
       "      <td>526.354717</td>\n",
       "    </tr>\n",
       "    <tr>\n",
       "      <th>3</th>\n",
       "      <td>1100056</td>\n",
       "      <td>Cerejeiras</td>\n",
       "      <td>11</td>\n",
       "      <td>RO</td>\n",
       "      <td>740.000000</td>\n",
       "      <td>462.400000</td>\n",
       "      <td>642.500000</td>\n",
       "      <td>517.600000</td>\n",
       "      <td>592.100000</td>\n",
       "    </tr>\n",
       "    <tr>\n",
       "      <th>4</th>\n",
       "      <td>1100064</td>\n",
       "      <td>Colorado do Oeste</td>\n",
       "      <td>11</td>\n",
       "      <td>RO</td>\n",
       "      <td>620.000000</td>\n",
       "      <td>704.900000</td>\n",
       "      <td>638.700000</td>\n",
       "      <td>536.300000</td>\n",
       "      <td>528.300000</td>\n",
       "    </tr>\n",
       "  </tbody>\n",
       "</table>\n",
       "</div>"
      ],
      "text/plain": [
       "   CO_MUNICIPIO_RESIDENCIA NO_MUNICIPIO_RESIDENCIA  CO_UF_RESIDENCIA  \\\n",
       "0                  1100015   Alta Floresta D'Oeste                11   \n",
       "1                  1100023               Ariquemes                11   \n",
       "2                  1100049                  Cacoal                11   \n",
       "3                  1100056              Cerejeiras                11   \n",
       "4                  1100064       Colorado do Oeste                11   \n",
       "\n",
       "  SG_UF_RESIDENCIA  NU_NOTA_REDACAO  NU_NOTA_MT  NU_NOTA_CH  NU_NOTA_CN  \\\n",
       "0               RO       488.000000  496.280000  583.940000  487.940000   \n",
       "1               RO       470.000000  480.918750  564.823529  476.937500   \n",
       "2               RO       478.490566  533.844898  551.352830  491.157143   \n",
       "3               RO       740.000000  462.400000  642.500000  517.600000   \n",
       "4               RO       620.000000  704.900000  638.700000  536.300000   \n",
       "\n",
       "   NU_NOTA_LC  \n",
       "0  487.960000  \n",
       "1  494.955882  \n",
       "2  526.354717  \n",
       "3  592.100000  \n",
       "4  528.300000  "
      ]
     },
     "execution_count": 11,
     "metadata": {},
     "output_type": "execute_result"
    }
   ],
   "source": [
    "mediaEnemPorMunicipio.head()"
   ]
  },
  {
   "cell_type": "code",
   "execution_count": 14,
   "metadata": {},
   "outputs": [],
   "source": [
    "colunasAtlas = ['ANO']\n",
    "atlasHumano = pd.read_csv('atlas2013_dadosbrutos_pt.csv', sep=';', usecols=colunasAtlas)"
   ]
  },
  {
   "cell_type": "code",
   "execution_count": 15,
   "metadata": {},
   "outputs": [
    {
     "data": {
      "text/html": [
       "<div>\n",
       "<style scoped>\n",
       "    .dataframe tbody tr th:only-of-type {\n",
       "        vertical-align: middle;\n",
       "    }\n",
       "\n",
       "    .dataframe tbody tr th {\n",
       "        vertical-align: top;\n",
       "    }\n",
       "\n",
       "    .dataframe thead th {\n",
       "        text-align: right;\n",
       "    }\n",
       "</style>\n",
       "<table border=\"1\" class=\"dataframe\">\n",
       "  <thead>\n",
       "    <tr style=\"text-align: right;\">\n",
       "      <th></th>\n",
       "      <th>ANO</th>\n",
       "    </tr>\n",
       "  </thead>\n",
       "  <tbody>\n",
       "    <tr>\n",
       "      <th>0</th>\n",
       "      <td>1991</td>\n",
       "    </tr>\n",
       "    <tr>\n",
       "      <th>1</th>\n",
       "      <td>2000</td>\n",
       "    </tr>\n",
       "    <tr>\n",
       "      <th>2</th>\n",
       "      <td>2010</td>\n",
       "    </tr>\n",
       "  </tbody>\n",
       "</table>\n",
       "</div>"
      ],
      "text/plain": [
       "    ANO\n",
       "0  1991\n",
       "1  2000\n",
       "2  2010"
      ]
     },
     "execution_count": 15,
     "metadata": {},
     "output_type": "execute_result"
    }
   ],
   "source": [
    "atlasHumano.head()"
   ]
  },
  {
   "cell_type": "code",
   "execution_count": null,
   "metadata": {},
   "outputs": [],
   "source": []
  }
 ],
 "metadata": {
  "kernelspec": {
   "display_name": "Python 3",
   "language": "python",
   "name": "python3"
  },
  "language_info": {
   "codemirror_mode": {
    "name": "ipython",
    "version": 3
   },
   "file_extension": ".py",
   "mimetype": "text/x-python",
   "name": "python",
   "nbconvert_exporter": "python",
   "pygments_lexer": "ipython3",
   "version": "3.8.1"
  }
 },
 "nbformat": 4,
 "nbformat_minor": 4
}
